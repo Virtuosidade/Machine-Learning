{
  "nbformat": 4,
  "nbformat_minor": 0,
  "metadata": {
    "colab": {
      "name": "4-Fase5Atv1.ipynb",
      "provenance": [],
      "collapsed_sections": []
    },
    "kernelspec": {
      "name": "python3",
      "display_name": "Python 3"
    },
    "language_info": {
      "name": "python"
    },
    "gpuClass": "standard"
  },
  "cells": [
    {
      "cell_type": "markdown",
      "source": [
        "## Importando bibliotecas"
      ],
      "metadata": {
        "id": "burZLVZF-4E7"
      }
    },
    {
      "cell_type": "code",
      "source": [
        "import numpy as np\n",
        "import tensorflow_datasets as tfds\n",
        "import tensorflow as tf\n",
        "import pandas as pd\n",
        "import matplotlib.pyplot as plt\n",
        "\n",
        "from tensorflow.keras.preprocessing.sequence import pad_sequences\n",
        "from tensorflow.keras.layers import Embedding, LSTM, Dense, Bidirectional\n",
        "from tensorflow.keras.preprocessing.text import Tokenizer\n",
        "from tensorflow.keras.models import Sequential\n",
        "from tensorflow.keras.optimizers import Adam\n",
        "\n",
        "from sklearn.metrics import confusion_matrix\n",
        "from sklearn import metrics\n",
        "from sklearn.metrics import precision_score\n",
        "from sklearn.metrics import roc_curve, roc_auc_score\n",
        "from sklearn.metrics import classification_report"
      ],
      "metadata": {
        "id": "GnZoOuGZtign"
      },
      "execution_count": null,
      "outputs": []
    },
    {
      "cell_type": "markdown",
      "source": [
        "## Modelo de ML\n"
      ],
      "metadata": {
        "id": "NbPkkYPD-xQM"
      }
    },
    {
      "cell_type": "markdown",
      "source": [
        "Ler o Arquivo CSV"
      ],
      "metadata": {
        "id": "E9Vp9Po0IMyt"
      }
    },
    {
      "cell_type": "code",
      "source": [
        "df = pd.read_csv('review_clientes_melhores_compras.csv')\n",
        "df = df.drop('review_id', axis=1)"
      ],
      "metadata": {
        "id": "Os4oPmbYaxpH"
      },
      "execution_count": null,
      "outputs": []
    },
    {
      "cell_type": "markdown",
      "source": [
        "Separar os dados entre treino e teste, com as respectivas respostas"
      ],
      "metadata": {
        "id": "7r3PMpbxIPzo"
      }
    },
    {
      "cell_type": "code",
      "source": [
        "split = round(len(df)*0.8)\n",
        "train_reviews = df['review_cliente'][:split]\n",
        "train_label = df['sentimento'][:split]\n",
        "test_reviews = df['review_cliente'][split:]\n",
        "test_label = df['sentimento'][split:]"
      ],
      "metadata": {
        "id": "oy_7qgaJbI8l"
      },
      "execution_count": null,
      "outputs": []
    },
    {
      "cell_type": "markdown",
      "source": [
        "Dividir os dados em apenas duas variáveis no formato adequado do TensorFlow"
      ],
      "metadata": {
        "id": "ieNgPbyWIy3f"
      }
    },
    {
      "cell_type": "code",
      "source": [
        "train_dataset = tf.data.Dataset.from_tensor_slices((train_reviews, train_label))\n",
        "test_dataset = tf.data.Dataset.from_tensor_slices((test_reviews, test_label))"
      ],
      "metadata": {
        "id": "XyprxKd2CoKz"
      },
      "execution_count": null,
      "outputs": []
    },
    {
      "cell_type": "markdown",
      "source": [
        "Definindo o tamanho dos parâmetros."
      ],
      "metadata": {
        "id": "ycWGLnRII2ty"
      }
    },
    {
      "cell_type": "code",
      "source": [
        "BUFFER_SIZE = 10000\n",
        "BATCH_SIZE = 64\n",
        "VOCAB_SIZE=1000"
      ],
      "metadata": {
        "id": "FwH6OMt5I3Nj"
      },
      "execution_count": null,
      "outputs": []
    },
    {
      "cell_type": "markdown",
      "source": [
        "\n",
        "\n",
        "Dividindo e embaralhando os dados."
      ],
      "metadata": {
        "id": "oB2VAyEcHNBx"
      }
    },
    {
      "cell_type": "code",
      "source": [
        "train_dataset = train_dataset.shuffle(BUFFER_SIZE).batch(BATCH_SIZE).prefetch(tf.data.AUTOTUNE)\n",
        "test_dataset = test_dataset.batch(BATCH_SIZE).prefetch(tf.data.AUTOTUNE)"
      ],
      "metadata": {
        "id": "FSvPVQa33X-S"
      },
      "execution_count": null,
      "outputs": []
    },
    {
      "cell_type": "markdown",
      "source": [
        "Realizando o pre-processamento"
      ],
      "metadata": {
        "id": "x6MIYL6rHXb5"
      }
    },
    {
      "cell_type": "code",
      "source": [
        "encoder = tf.keras.layers.experimental.preprocessing.TextVectorization(\n",
        "    max_tokens=VOCAB_SIZE)\n",
        "encoder.adapt(train_dataset.map(lambda text, label: text))"
      ],
      "metadata": {
        "id": "9r0Hcu9t3Zul"
      },
      "execution_count": null,
      "outputs": []
    },
    {
      "cell_type": "markdown",
      "source": [
        "Criando o modelo"
      ],
      "metadata": {
        "id": "H3ct-F2lHb11"
      }
    },
    {
      "cell_type": "code",
      "source": [
        "model = tf.keras.Sequential([\n",
        "    encoder,\n",
        "    tf.keras.layers.Embedding(\n",
        "        input_dim=len(encoder.get_vocabulary()),\n",
        "        output_dim=64, mask_zero=True),\n",
        "    tf.keras.layers.Bidirectional(tf.keras.layers.LSTM(64)),\n",
        "    tf.keras.layers.Dense(64, activation='relu'),\n",
        "    tf.keras.layers.Dense(1)\n",
        "])"
      ],
      "metadata": {
        "id": "xAixY37f3a_d"
      },
      "execution_count": null,
      "outputs": []
    },
    {
      "cell_type": "markdown",
      "source": [
        "Compilando o modelo"
      ],
      "metadata": {
        "id": "qwauXEYDHfqO"
      }
    },
    {
      "cell_type": "code",
      "source": [
        "model.compile(loss=tf.keras.losses.BinaryCrossentropy(from_logits=True),\n",
        "              optimizer=tf.keras.optimizers.Adam(1e-4),\n",
        "              metrics=['accuracy'])"
      ],
      "metadata": {
        "id": "b7pM3HHn3dZn"
      },
      "execution_count": null,
      "outputs": []
    },
    {
      "cell_type": "markdown",
      "source": [
        "Treinando o modelo"
      ],
      "metadata": {
        "id": "CrA7zoUWHiyC"
      }
    },
    {
      "cell_type": "code",
      "source": [
        "history = model.fit(train_dataset, epochs=10,\n",
        "                    validation_data=test_dataset, \n",
        "                    validation_steps=30)"
      ],
      "metadata": {
        "id": "sOv9uxaw3fdk",
        "colab": {
          "base_uri": "https://localhost:8080/"
        },
        "outputId": "f30fcdac-4119-419a-cb82-54f49278c8c5"
      },
      "execution_count": null,
      "outputs": [
        {
          "output_type": "stream",
          "name": "stdout",
          "text": [
            "Epoch 1/10\n",
            "537/537 [==============================] - 45s 65ms/step - loss: 0.4456 - accuracy: 0.7182 - val_loss: 0.3160 - val_accuracy: 0.8906\n",
            "Epoch 2/10\n",
            "537/537 [==============================] - 33s 62ms/step - loss: 0.2838 - accuracy: 0.8937 - val_loss: 0.2816 - val_accuracy: 0.8922\n",
            "Epoch 3/10\n",
            "537/537 [==============================] - 34s 63ms/step - loss: 0.2625 - accuracy: 0.9003 - val_loss: 0.2689 - val_accuracy: 0.8969\n",
            "Epoch 4/10\n",
            "537/537 [==============================] - 32s 60ms/step - loss: 0.2538 - accuracy: 0.9058 - val_loss: 0.2635 - val_accuracy: 0.8974\n",
            "Epoch 5/10\n",
            "537/537 [==============================] - 32s 60ms/step - loss: 0.2489 - accuracy: 0.9089 - val_loss: 0.2614 - val_accuracy: 0.8979\n",
            "Epoch 6/10\n",
            "537/537 [==============================] - 32s 60ms/step - loss: 0.2457 - accuracy: 0.9094 - val_loss: 0.2600 - val_accuracy: 0.8958\n",
            "Epoch 7/10\n",
            "537/537 [==============================] - 32s 60ms/step - loss: 0.2434 - accuracy: 0.9102 - val_loss: 0.2599 - val_accuracy: 0.8969\n",
            "Epoch 8/10\n",
            "537/537 [==============================] - 31s 59ms/step - loss: 0.2414 - accuracy: 0.9111 - val_loss: 0.2592 - val_accuracy: 0.8958\n",
            "Epoch 9/10\n",
            "537/537 [==============================] - 30s 56ms/step - loss: 0.2392 - accuracy: 0.9107 - val_loss: 0.2589 - val_accuracy: 0.8974\n",
            "Epoch 10/10\n",
            "537/537 [==============================] - 32s 60ms/step - loss: 0.2374 - accuracy: 0.9119 - val_loss: 0.2588 - val_accuracy: 0.8969\n"
          ]
        }
      ]
    },
    {
      "cell_type": "markdown",
      "source": [
        "Validando o modelo"
      ],
      "metadata": {
        "id": "mKYZ1uy3HnuE"
      }
    },
    {
      "cell_type": "code",
      "source": [
        "test_loss, test_acc = model.evaluate(test_dataset)\n",
        "print('Test Loss: {}'.format(test_loss))\n",
        "print('Test Accuracy: {}'.format(test_acc))"
      ],
      "metadata": {
        "colab": {
          "base_uri": "https://localhost:8080/"
        },
        "id": "7iT8wG-KC2yF",
        "outputId": "c6f6f16c-af5f-4f7e-a814-aa92ce303d97"
      },
      "execution_count": null,
      "outputs": [
        {
          "output_type": "stream",
          "name": "stdout",
          "text": [
            "135/135 [==============================] - 2s 16ms/step - loss: 0.2645 - accuracy: 0.8981\n",
            "Test Loss: 0.2644779682159424\n",
            "Test Accuracy: 0.8981114625930786\n"
          ]
        }
      ]
    },
    {
      "cell_type": "markdown",
      "source": [
        "Utilizando o modelo em uma amostra de texto"
      ],
      "metadata": {
        "id": "LR86u0AsHswb"
      }
    },
    {
      "cell_type": "code",
      "source": [
        "sample_text = ('Interessante, preço amigável')\n",
        "predictions = model.predict(np.array([sample_text]))\n",
        "print(predictions)"
      ],
      "metadata": {
        "id": "rn89xxNCLKZn",
        "colab": {
          "base_uri": "https://localhost:8080/"
        },
        "outputId": "5a757452-8b89-4172-d4e3-c205127dc1e5"
      },
      "execution_count": null,
      "outputs": [
        {
          "output_type": "stream",
          "name": "stdout",
          "text": [
            "[[1.1016219]]\n"
          ]
        }
      ]
    },
    {
      "cell_type": "code",
      "source": [
        "index=np.random.randint(1,1000)\n",
        "user_review=df.review_cliente.loc[index]\n",
        "print(user_review)\n",
        "if (model.predict(np.array([user_review]))>0.5).astype(\"int32\"):\n",
        "  print(\"Sentimento positivo\")\n",
        "else:\n",
        "  print(\"Sentimento negativo\")"
      ],
      "metadata": {
        "id": "o797eJANtcyf",
        "colab": {
          "base_uri": "https://localhost:8080/"
        },
        "outputId": "9d2b64a3-0673-4792-ba5b-56126cb05eca"
      },
      "execution_count": null,
      "outputs": [
        {
          "output_type": "stream",
          "name": "stdout",
          "text": [
            "bom imaginar maior boneca legal\n",
            "Sentimento positivo\n"
          ]
        }
      ]
    },
    {
      "cell_type": "markdown",
      "source": [
        "Adicionando os resultados de sentimento pelo modelo em uma lista (0 e 1)"
      ],
      "metadata": {
        "id": "L_Ce6v8TH6Us"
      }
    },
    {
      "cell_type": "code",
      "source": [
        "test_pred = []\n",
        "for attr, value in test_reviews.items():\n",
        "        prediction = model.predict(np.array([value]))\n",
        "        if (prediction > 0.5).astype(\"int32\"):\n",
        "          test_pred.append(1)\n",
        "        else:\n",
        "          test_pred.append(0)"
      ],
      "metadata": {
        "id": "elAHMKRN6nkd"
      },
      "execution_count": null,
      "outputs": []
    },
    {
      "cell_type": "code",
      "source": [
        "test_labels1 = test_label.tolist()"
      ],
      "metadata": {
        "id": "PZbNEnHrdkqJ"
      },
      "execution_count": null,
      "outputs": []
    },
    {
      "cell_type": "markdown",
      "source": [
        "Plotando os gráficos de perda e acurácia do modelo"
      ],
      "metadata": {
        "id": "lzY3y_GqIVz_"
      }
    },
    {
      "cell_type": "code",
      "source": [
        "%matplotlib inline\n",
        "import matplotlib.pyplot as plt\n",
        "import matplotlib.image as mpimg\n",
        "acc = history.history['accuracy']\n",
        "val_acc = history.history['val_accuracy']\n",
        "loss = history.history['loss']\n",
        "val_loss = history.history['val_loss']\n",
        "epochs=range(len(acc))\n",
        "plt.plot(epochs, acc, 'r', 'Training Accuracy')\n",
        "plt.plot(epochs, val_acc, 'b', 'Validation Accuracy')\n",
        "plt.title('Training and validation accuracy')\n",
        "plt.figure()\n",
        "plt.plot(epochs, loss, 'r', 'Training Loss')\n",
        "plt.plot(epochs, val_loss, 'b', 'Validation Loss')\n",
        "plt.title('Training and validation loss')\n",
        "plt.figure()"
      ],
      "metadata": {
        "id": "LxnaVKodQnhu",
        "colab": {
          "base_uri": "https://localhost:8080/",
          "height": 582
        },
        "outputId": "47f440d7-3652-4a9c-f165-c566d1756b76"
      },
      "execution_count": null,
      "outputs": [
        {
          "output_type": "execute_result",
          "data": {
            "text/plain": [
              "<Figure size 432x288 with 0 Axes>"
            ]
          },
          "metadata": {},
          "execution_count": 19
        },
        {
          "output_type": "display_data",
          "data": {
            "text/plain": [
              "<Figure size 432x288 with 1 Axes>"
            ],
            "image/png": "[encoded data removed]"
          },
          "metadata": {
            "needs_background": "light"
          }
        },
        {
          "output_type": "display_data",
          "data": {
            "text/plain": [
              "<Figure size 432x288 with 1 Axes>"
            ],
            "image/png": "[encoded data removed]"
          },
          "metadata": {
            "needs_background": "light"
          }
        },
        {
          "output_type": "display_data",
          "data": {
            "text/plain": [
              "<Figure size 432x288 with 0 Axes>"
            ]
          },
          "metadata": {}
        }
      ]
    },
    {
      "cell_type": "markdown",
      "source": [
        "Fazendo a matriz de confusão"
      ],
      "metadata": {
        "id": "7R4uS9e3IlQI"
      }
    },
    {
      "cell_type": "code",
      "source": [
        "confusion_matrix(test_labels1, test_pred)"
      ],
      "metadata": {
        "id": "SxW3vncQvWao",
        "colab": {
          "base_uri": "https://localhost:8080/"
        },
        "outputId": "528409cf-babf-4e02-c70d-8f2a181537a3"
      },
      "execution_count": null,
      "outputs": [
        {
          "output_type": "execute_result",
          "data": {
            "text/plain": [
              "array([[2602,  348],\n",
              "       [ 526, 5102]])"
            ]
          },
          "metadata": {},
          "execution_count": 20
        }
      ]
    },
    {
      "cell_type": "code",
      "source": [
        "confusion_matrix = metrics.confusion_matrix(test_labels1, test_pred)\n",
        "\n",
        "cm_display = metrics.ConfusionMatrixDisplay(confusion_matrix = confusion_matrix, display_labels = [False, True])\n",
        "\n",
        "cm_display.plot()\n",
        "plt.show()"
      ],
      "metadata": {
        "colab": {
          "base_uri": "https://localhost:8080/",
          "height": 279
        },
        "id": "9lZKqd-gRBmd",
        "outputId": "b248d125-921d-42b3-87c3-b3be82a2d610"
      },
      "execution_count": null,
      "outputs": [
        {
          "output_type": "display_data",
          "data": {
            "text/plain": [
              "<Figure size 432x288 with 2 Axes>"
            ],
            "image/png": "[encoded data removed]"
          },
          "metadata": {
            "needs_background": "light"
          }
        }
      ]
    },
    {
      "cell_type": "markdown",
      "source": [
        "Fazendo o score de precisão"
      ],
      "metadata": {
        "id": "FTsnj_FwIqQD"
      }
    },
    {
      "cell_type": "code",
      "source": [
        "precision_score(test_labels1, test_pred)"
      ],
      "metadata": {
        "id": "ZtRBp2n40NYw",
        "colab": {
          "base_uri": "https://localhost:8080/"
        },
        "outputId": "5a21aba6-7a9c-4c14-b45f-83452005b726"
      },
      "execution_count": null,
      "outputs": [
        {
          "output_type": "execute_result",
          "data": {
            "text/plain": [
              "0.9361467889908257"
            ]
          },
          "metadata": {},
          "execution_count": 22
        }
      ]
    },
    {
      "cell_type": "markdown",
      "source": [
        "Fazendo o score do recall"
      ],
      "metadata": {
        "id": "tHK7_nLlIugY"
      }
    },
    {
      "cell_type": "code",
      "source": [
        "from sklearn.metrics import recall_score\n",
        "recall_score(test_labels1, test_pred)"
      ],
      "metadata": {
        "id": "djETLh8we8gG",
        "colab": {
          "base_uri": "https://localhost:8080/"
        },
        "outputId": "b93a0a74-dfac-40b5-cdeb-1cd976049d98"
      },
      "execution_count": null,
      "outputs": [
        {
          "output_type": "execute_result",
          "data": {
            "text/plain": [
              "0.9065387348969438"
            ]
          },
          "metadata": {},
          "execution_count": 23
        }
      ]
    },
    {
      "cell_type": "markdown",
      "source": [
        "Fazendo a curva ROC"
      ],
      "metadata": {
        "id": "wRBb_1EiIxQs"
      }
    },
    {
      "cell_type": "code",
      "source": [
        "# função auxiliar para plotar o grafico da curva ROC\n",
        "def plot_roc_curve(fper, tper):\n",
        "    plt.plot(fper, tper, color='red', label='ROC')\n",
        "    plt.plot([0, 1], [0, 1], color='green', linestyle='--')\n",
        "    plt.xlabel('False Positive Rate')\n",
        "    plt.ylabel('True Positive Rate')\n",
        "    plt.title('Receiver Operating Characteristic Curve')\n",
        "    plt.legend()\n",
        "    plt.show()\n",
        "    \n",
        "# cria dois array de teste\n",
        "# y= y de teste verdadeiros\n",
        "# score = y probabilidade predita da classe\n",
        "y = np.array(test_labels1)\n",
        "scores = np.array(test_pred)\n",
        "# calcula curva ROC \n",
        "fper, tper, thresholds = roc_curve(y, scores, pos_label=1)\n",
        "# Plota o gráfico \n",
        "plot_roc_curve(fper, tper)\n",
        "# Cálcula AUC - area under the ROC curve\n",
        "auc = roc_auc_score(y, scores)\n",
        "print(\"auc: \",auc)\n",
        "### auc: 0.9639"
      ],
      "metadata": {
        "id": "aD8vdemvfI8R",
        "colab": {
          "base_uri": "https://localhost:8080/",
          "height": 313
        },
        "outputId": "60672e71-1548-4265-ab69-27844b3f942a"
      },
      "execution_count": null,
      "outputs": [
        {
          "output_type": "display_data",
          "data": {
            "text/plain": [
              "<Figure size 432x288 with 1 Axes>"
            ],
            "image/png": "[encoded data removed]"
          },
          "metadata": {
            "needs_background": "light"
          }
        },
        {
          "output_type": "stream",
          "name": "stdout",
          "text": [
            "auc:  0.8942863166010142\n"
          ]
        }
      ]
    },
    {
      "cell_type": "code",
      "source": [
        "report = classification_report(test_labels1, test_pred)"
      ],
      "metadata": {
        "id": "qrA9wx66Kjwm"
      },
      "execution_count": null,
      "outputs": []
    },
    {
      "cell_type": "code",
      "source": [
        "print(report)"
      ],
      "metadata": {
        "id": "wacfG-K2LcBz",
        "colab": {
          "base_uri": "https://localhost:8080/"
        },
        "outputId": "135ce6c5-7399-4d4c-9ff5-a3461dcae2d6"
      },
      "execution_count": null,
      "outputs": [
        {
          "output_type": "stream",
          "name": "stdout",
          "text": [
            "              precision    recall  f1-score   support\n",
            "\n",
            "           0       0.83      0.88      0.86      2950\n",
            "           1       0.94      0.91      0.92      5628\n",
            "\n",
            "    accuracy                           0.90      8578\n",
            "   macro avg       0.88      0.89      0.89      8578\n",
            "weighted avg       0.90      0.90      0.90      8578\n",
            "\n"
          ]
        }
      ]
    }
  ]
}
